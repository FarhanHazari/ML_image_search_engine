{
 "cells": [
  {
   "cell_type": "code",
   "execution_count": 1,
   "id": "3922e583",
   "metadata": {},
   "outputs": [
    {
     "name": "stdout",
     "output_type": "stream",
     "text": [
      "TensorFlow version: 2.8.0\n",
      "Is using GPU? True\n",
      "Num GPUs Available:  1\n"
     ]
    }
   ],
   "source": [
    "import tensorflow as tf\n",
    "import os\n",
    "# os.environ[\"CUDA_VISIBLE_DEVICES\"] = \"-1\"\n",
    "from tensorflow import keras\n",
    "from keras.layers import Input, Lambda, Dense, Flatten\n",
    "from keras.models import Model\n",
    "from keras.preprocessing import image\n",
    "from keras.preprocessing.image import ImageDataGenerator\n",
    "from keras.models import Sequential\n",
    "import numpy as np\n",
    "from glob import glob\n",
    "import matplotlib.pyplot as plt\n",
    "from sklearn.model_selection import train_test_split\n",
    "\n",
    "print('TensorFlow version:', tf.__version__)\n",
    "print('Is using GPU?', False if tf.config.list_physical_devices('GPU') == [] else True)\n",
    "print(\"Num GPUs Available: \", len(tf.config.list_physical_devices('GPU')))\n",
    "# print(tf.config.list_physical_devices('GPU'))"
   ]
  },
  {
   "cell_type": "code",
   "execution_count": 2,
   "id": "5c0127a3",
   "metadata": {},
   "outputs": [],
   "source": [
    "# re-size all the images to this\n",
    "IMAGE_SIZE = [224, 224]"
   ]
  },
  {
   "cell_type": "code",
   "execution_count": 3,
   "id": "f3db75f7",
   "metadata": {},
   "outputs": [],
   "source": [
    "train_path = 'dataset_rahin/training'\n",
    "valid_path = 'dataset_rahin/validation/gallery'"
   ]
  },
  {
   "cell_type": "code",
   "execution_count": 4,
   "id": "7e58f475",
   "metadata": {},
   "outputs": [
    {
     "name": "stdout",
     "output_type": "stream",
     "text": [
      "101\n"
     ]
    }
   ],
   "source": [
    "# useful for getting number of classes\n",
    "folders = glob(train_path+'/*')\n",
    "\n",
    "print(len(folders))"
   ]
  },
  {
   "cell_type": "code",
   "execution_count": 5,
   "id": "af053065",
   "metadata": {},
   "outputs": [
    {
     "name": "stdout",
     "output_type": "stream",
     "text": [
      "Model: \"vgg16\"\n",
      "_________________________________________________________________\n",
      " Layer (type)                Output Shape              Param #   \n",
      "=================================================================\n",
      " input_1 (InputLayer)        [(None, 224, 224, 3)]     0         \n",
      "                                                                 \n",
      " block1_conv1 (Conv2D)       (None, 224, 224, 64)      1792      \n",
      "                                                                 \n",
      " block1_conv2 (Conv2D)       (None, 224, 224, 64)      36928     \n",
      "                                                                 \n",
      " block1_pool (MaxPooling2D)  (None, 112, 112, 64)      0         \n",
      "                                                                 \n",
      " block2_conv1 (Conv2D)       (None, 112, 112, 128)     73856     \n",
      "                                                                 \n",
      " block2_conv2 (Conv2D)       (None, 112, 112, 128)     147584    \n",
      "                                                                 \n",
      " block2_pool (MaxPooling2D)  (None, 56, 56, 128)       0         \n",
      "                                                                 \n",
      " block3_conv1 (Conv2D)       (None, 56, 56, 256)       295168    \n",
      "                                                                 \n",
      " block3_conv2 (Conv2D)       (None, 56, 56, 256)       590080    \n",
      "                                                                 \n",
      " block3_conv3 (Conv2D)       (None, 56, 56, 256)       590080    \n",
      "                                                                 \n",
      " block3_pool (MaxPooling2D)  (None, 28, 28, 256)       0         \n",
      "                                                                 \n",
      " block4_conv1 (Conv2D)       (None, 28, 28, 512)       1180160   \n",
      "                                                                 \n",
      " block4_conv2 (Conv2D)       (None, 28, 28, 512)       2359808   \n",
      "                                                                 \n",
      " block4_conv3 (Conv2D)       (None, 28, 28, 512)       2359808   \n",
      "                                                                 \n",
      " block4_pool (MaxPooling2D)  (None, 14, 14, 512)       0         \n",
      "                                                                 \n",
      " block5_conv1 (Conv2D)       (None, 14, 14, 512)       2359808   \n",
      "                                                                 \n",
      " block5_conv2 (Conv2D)       (None, 14, 14, 512)       2359808   \n",
      "                                                                 \n",
      " block5_conv3 (Conv2D)       (None, 14, 14, 512)       2359808   \n",
      "                                                                 \n",
      " block5_pool (MaxPooling2D)  (None, 7, 7, 512)         0         \n",
      "                                                                 \n",
      "=================================================================\n",
      "Total params: 14,714,688\n",
      "Trainable params: 0\n",
      "Non-trainable params: 14,714,688\n",
      "_________________________________________________________________\n"
     ]
    }
   ],
   "source": [
    "# add preprocessing layer to the front of VGG16\n",
    "vgg16 = tf.keras.applications.VGG16(input_shape=IMAGE_SIZE + [3], weights='imagenet', include_top=False)\n",
    "\n",
    "# don't train resnet50 weights\n",
    "for layer in vgg16.layers:\n",
    "  layer.trainable = False\n",
    "\n",
    "vgg16.summary()"
   ]
  },
  {
   "cell_type": "code",
   "execution_count": 6,
   "id": "cc07c4ad",
   "metadata": {},
   "outputs": [
    {
     "name": "stdout",
     "output_type": "stream",
     "text": [
      "Model: \"model\"\n",
      "_________________________________________________________________\n",
      " Layer (type)                Output Shape              Param #   \n",
      "=================================================================\n",
      " input_1 (InputLayer)        [(None, 224, 224, 3)]     0         \n",
      "                                                                 \n",
      " block1_conv1 (Conv2D)       (None, 224, 224, 64)      1792      \n",
      "                                                                 \n",
      " block1_conv2 (Conv2D)       (None, 224, 224, 64)      36928     \n",
      "                                                                 \n",
      " block1_pool (MaxPooling2D)  (None, 112, 112, 64)      0         \n",
      "                                                                 \n",
      " block2_conv1 (Conv2D)       (None, 112, 112, 128)     73856     \n",
      "                                                                 \n",
      " block2_conv2 (Conv2D)       (None, 112, 112, 128)     147584    \n",
      "                                                                 \n",
      " block2_pool (MaxPooling2D)  (None, 56, 56, 128)       0         \n",
      "                                                                 \n",
      " block3_conv1 (Conv2D)       (None, 56, 56, 256)       295168    \n",
      "                                                                 \n",
      " block3_conv2 (Conv2D)       (None, 56, 56, 256)       590080    \n",
      "                                                                 \n",
      " block3_conv3 (Conv2D)       (None, 56, 56, 256)       590080    \n",
      "                                                                 \n",
      " block3_pool (MaxPooling2D)  (None, 28, 28, 256)       0         \n",
      "                                                                 \n",
      " block4_conv1 (Conv2D)       (None, 28, 28, 512)       1180160   \n",
      "                                                                 \n",
      " block4_conv2 (Conv2D)       (None, 28, 28, 512)       2359808   \n",
      "                                                                 \n",
      " block4_conv3 (Conv2D)       (None, 28, 28, 512)       2359808   \n",
      "                                                                 \n",
      " block4_pool (MaxPooling2D)  (None, 14, 14, 512)       0         \n",
      "                                                                 \n",
      " block5_conv1 (Conv2D)       (None, 14, 14, 512)       2359808   \n",
      "                                                                 \n",
      " block5_conv2 (Conv2D)       (None, 14, 14, 512)       2359808   \n",
      "                                                                 \n",
      " block5_conv3 (Conv2D)       (None, 14, 14, 512)       2359808   \n",
      "                                                                 \n",
      " block5_pool (MaxPooling2D)  (None, 7, 7, 512)         0         \n",
      "                                                                 \n",
      " flatten (Flatten)           (None, 25088)             0         \n",
      "                                                                 \n",
      " dense (Dense)               (None, 101)               2533989   \n",
      "                                                                 \n",
      "=================================================================\n",
      "Total params: 17,248,677\n",
      "Trainable params: 2,533,989\n",
      "Non-trainable params: 14,714,688\n",
      "_________________________________________________________________\n"
     ]
    }
   ],
   "source": [
    "# our layers - you can add more if you want\n",
    "x = Flatten()(vgg16.output)\n",
    "# x = Dense(1000, activation='relu')(x)\n",
    "prediction = Dense(len(folders), activation='softmax')(x)\n",
    "\n",
    "# create a model object\n",
    "model = Model(inputs=vgg16.input, outputs=prediction)\n",
    "\n",
    "# view the structure of the model\n",
    "model.summary()"
   ]
  },
  {
   "cell_type": "code",
   "execution_count": 7,
   "id": "e5d17971",
   "metadata": {},
   "outputs": [],
   "source": [
    "# Make last 4 layers trainable\n",
    "model.get_layer('block5_conv3').trainable = True\n",
    "model.get_layer('block5_conv2').trainable = True\n",
    "model.get_layer('block5_conv1').trainable = True\n",
    "model.get_layer('block4_conv3').trainable = True"
   ]
  },
  {
   "cell_type": "code",
   "execution_count": 8,
   "id": "b20240a2",
   "metadata": {},
   "outputs": [],
   "source": [
    "# tell the model what cost and optimization method to use\n",
    "model.compile(\n",
    "  loss='categorical_crossentropy',\n",
    "  optimizer='adam',\n",
    "  metrics=['accuracy']\n",
    ")"
   ]
  },
  {
   "cell_type": "code",
   "execution_count": 9,
   "id": "0269a744",
   "metadata": {},
   "outputs": [
    {
     "name": "stdout",
     "output_type": "stream",
     "text": [
      "Found 43455 images belonging to 101 classes.\n",
      "Found 18565 images belonging to 101 classes.\n"
     ]
    }
   ],
   "source": [
    "train_datagen = ImageDataGenerator(rescale = 1./255,\n",
    "                                   shear_range = 0.2,\n",
    "                                   zoom_range = 0.2,\n",
    "                                   horizontal_flip = True,\n",
    "                                   validation_split=0.3)\n",
    "\n",
    "# test_datagen = ImageDataGenerator(rescale = 1./255)\n",
    "\n",
    "training_set = train_datagen.flow_from_directory(train_path,\n",
    "                                                 target_size = (224, 224),\n",
    "                                                 batch_size = 32,\n",
    "                                                 class_mode = 'categorical',\n",
    "                                                 subset='training')\n",
    "\n",
    "test_set = train_datagen.flow_from_directory(train_path,\n",
    "                                            target_size = (224, 224),\n",
    "                                            batch_size = 32,\n",
    "                                            class_mode = 'categorical',\n",
    "                                            subset='validation')\n",
    "\n",
    "\n",
    "\n",
    "\n",
    "# training_set,test_set=train_test_split(training_set,test_size=0.3,random_state=421)"
   ]
  },
  {
   "cell_type": "code",
   "execution_count": 10,
   "id": "4ee30dce",
   "metadata": {},
   "outputs": [],
   "source": [
    "from keras.callbacks import LearningRateScheduler\n",
    "def lr_scheduler(epoch, lr):\n",
    "    decay_rate = 0.85\n",
    "    decay_step = 1\n",
    "    if epoch % decay_step == 0 and epoch:\n",
    "        return lr * pow(decay_rate, np.floor(epoch / decay_step))\n",
    "    return lr\n"
   ]
  },
  {
   "cell_type": "code",
   "execution_count": 11,
   "id": "9c523bef",
   "metadata": {},
   "outputs": [
    {
     "name": "stdout",
     "output_type": "stream",
     "text": [
      "\n",
      "Epoch 1: LearningRateScheduler setting learning rate to 0.0010000000474974513.\n",
      "Epoch 1/20\n",
      " 118/1358 [=>............................] - ETA: 12:29 - loss: 3.5222 - accuracy: 0.1989"
     ]
    },
    {
     "name": "stderr",
     "output_type": "stream",
     "text": [
      "C:\\ProgramData\\Anaconda3\\lib\\site-packages\\PIL\\TiffImagePlugin.py:819: UserWarning: Corrupt EXIF data.  Expecting to read 4 bytes but only got 2. \n",
      "  warnings.warn(str(msg))\n"
     ]
    },
    {
     "name": "stdout",
     "output_type": "stream",
     "text": [
      "1358/1358 [==============================] - 776s 550ms/step - loss: 2.2873 - accuracy: 0.4765 - val_loss: 2.5453 - val_accuracy: 0.4339 - lr: 0.0010\n",
      "\n",
      "Epoch 2: LearningRateScheduler setting learning rate to 0.0008500000403728336.\n",
      "Epoch 2/20\n",
      "1358/1358 [==============================] - 692s 509ms/step - loss: 1.6709 - accuracy: 0.6014 - val_loss: 2.2757 - val_accuracy: 0.4879 - lr: 8.5000e-04\n",
      "\n",
      "Epoch 3: LearningRateScheduler setting learning rate to 0.0006141250501968897.\n",
      "Epoch 3/20\n",
      "1358/1358 [==============================] - 698s 514ms/step - loss: 1.4261 - accuracy: 0.6480 - val_loss: 2.1167 - val_accuracy: 0.5203 - lr: 6.1413e-04\n",
      "\n",
      "Epoch 4: LearningRateScheduler setting learning rate to 0.0003771495455584954.\n",
      "Epoch 4/20\n",
      "1358/1358 [==============================] - 701s 516ms/step - loss: 1.2249 - accuracy: 0.6934 - val_loss: 1.9688 - val_accuracy: 0.5581 - lr: 3.7715e-04\n",
      "\n",
      "Epoch 5: LearningRateScheduler setting learning rate to 0.00019687442435679256.\n",
      "Epoch 5/20\n",
      "1358/1358 [==============================] - 696s 513ms/step - loss: 1.0657 - accuracy: 0.7263 - val_loss: 1.9311 - val_accuracy: 0.5699 - lr: 1.9687e-04\n",
      "\n",
      "Epoch 6: LearningRateScheduler setting learning rate to 8.735422524159274e-05.\n",
      "Epoch 6/20\n",
      "1358/1358 [==============================] - 703s 518ms/step - loss: 0.9548 - accuracy: 0.7517 - val_loss: 1.8988 - val_accuracy: 0.5922 - lr: 8.7354e-05\n",
      "\n",
      "Epoch 7: LearningRateScheduler setting learning rate to 3.2945602918373075e-05.\n",
      "Epoch 7/20\n",
      "1358/1358 [==============================] - 700s 516ms/step - loss: 0.8913 - accuracy: 0.7677 - val_loss: 1.8489 - val_accuracy: 0.6003 - lr: 3.2946e-05\n",
      "\n",
      "Epoch 8: LearningRateScheduler setting learning rate to 1.056160501998452e-05.\n",
      "Epoch 8/20\n",
      "1358/1358 [==============================] - 702s 517ms/step - loss: 0.8624 - accuracy: 0.7743 - val_loss: 1.8281 - val_accuracy: 0.6047 - lr: 1.0562e-05\n",
      "\n",
      "Epoch 9: LearningRateScheduler setting learning rate to 2.8779374142621393e-06.\n",
      "Epoch 9/20\n",
      "1358/1358 [==============================] - 696s 512ms/step - loss: 0.8565 - accuracy: 0.7735 - val_loss: 1.8278 - val_accuracy: 0.6022 - lr: 2.8779e-06\n",
      "\n",
      "Epoch 10: LearningRateScheduler setting learning rate to 6.665790963418715e-07.\n",
      "Epoch 10/20\n",
      "1358/1358 [==============================] - 693s 510ms/step - loss: 0.8544 - accuracy: 0.7764 - val_loss: 1.8374 - val_accuracy: 0.6012 - lr: 6.6658e-07\n",
      "\n",
      "Epoch 11: LearningRateScheduler setting learning rate to 1.3123235720951491e-07.\n",
      "Epoch 11/20\n",
      "1358/1358 [==============================] - 714s 525ms/step - loss: 0.8487 - accuracy: 0.7780 - val_loss: 1.8297 - val_accuracy: 0.6033 - lr: 1.3123e-07\n",
      "\n",
      "Epoch 12: LearningRateScheduler setting learning rate to 2.1960847922709916e-08.\n",
      "Epoch 12/20\n",
      "1358/1358 [==============================] - 691s 509ms/step - loss: 0.8479 - accuracy: 0.7794 - val_loss: 1.8245 - val_accuracy: 0.6057 - lr: 2.1961e-08\n",
      "\n",
      "Epoch 13: LearningRateScheduler setting learning rate to 3.1237495170887933e-09.\n",
      "Epoch 13/20\n",
      "1358/1358 [==============================] - 697s 513ms/step - loss: 0.8524 - accuracy: 0.7766 - val_loss: 1.8321 - val_accuracy: 0.6050 - lr: 3.1237e-09\n",
      "\n",
      "Epoch 14: LearningRateScheduler setting learning rate to 3.776784728128181e-10.\n",
      "Epoch 14/20\n",
      "1358/1358 [==============================] - 697s 513ms/step - loss: 0.8493 - accuracy: 0.7775 - val_loss: 1.8249 - val_accuracy: 0.6047 - lr: 3.7768e-10\n",
      "\n",
      "Epoch 15: LearningRateScheduler setting learning rate to 3.881389173891113e-11.\n",
      "Epoch 15/20\n",
      "1358/1358 [==============================] - 702s 517ms/step - loss: 0.8535 - accuracy: 0.7764 - val_loss: 1.8251 - val_accuracy: 0.6013 - lr: 3.8814e-11\n",
      "\n",
      "Epoch 16: LearningRateScheduler setting learning rate to 3.3905573195674103e-12.\n",
      "Epoch 16/20\n",
      "1358/1358 [==============================] - 715s 527ms/step - loss: 0.8482 - accuracy: 0.7759 - val_loss: 1.8273 - val_accuracy: 0.6015 - lr: 3.3906e-12\n",
      "\n",
      "Epoch 17: LearningRateScheduler setting learning rate to 2.5175256737991116e-13.\n",
      "Epoch 17/20\n",
      "1358/1358 [==============================] - 700s 515ms/step - loss: 0.8500 - accuracy: 0.7774 - val_loss: 1.8222 - val_accuracy: 0.6039 - lr: 2.5175e-13\n",
      "\n",
      "Epoch 18: LearningRateScheduler setting learning rate to 1.5888965735005572e-14.\n",
      "Epoch 18/20\n",
      "1358/1358 [==============================] - 703s 518ms/step - loss: 0.8522 - accuracy: 0.7738 - val_loss: 1.8281 - val_accuracy: 0.6039 - lr: 1.5889e-14\n",
      "\n",
      "Epoch 19: LearningRateScheduler setting learning rate to 8.523859759031981e-16.\n",
      "Epoch 19/20\n",
      "1358/1358 [==============================] - 698s 514ms/step - loss: 0.8514 - accuracy: 0.7778 - val_loss: 1.8194 - val_accuracy: 0.6087 - lr: 8.5239e-16\n",
      "\n",
      "Epoch 20: LearningRateScheduler setting learning rate to 3.886833062600557e-17.\n",
      "Epoch 20/20\n",
      "1358/1358 [==============================] - 702s 517ms/step - loss: 0.8488 - accuracy: 0.7782 - val_loss: 1.8283 - val_accuracy: 0.6048 - lr: 3.8868e-17\n"
     ]
    }
   ],
   "source": [
    "# fit the model\n",
    "r = model.fit(\n",
    "    training_set,\n",
    "    validation_data=test_set,\n",
    "    epochs=20,\n",
    "    steps_per_epoch=len(training_set),\n",
    "    validation_steps=len(test_set),\n",
    "    callbacks=[\n",
    "        tf.keras.callbacks.EarlyStopping(monitor='val_accuracy', patience=7),\n",
    "        tf.keras.callbacks.ModelCheckpoint(\n",
    "            'models/model_VGG16_TL_{val_accuracy:.3f}.h5',\n",
    "            save_best_only=True, save_weights_only=False,\n",
    "            monitor='val_accuracy'\n",
    "        ),\n",
    "        LearningRateScheduler(lr_scheduler, verbose=1)\n",
    "    ]\n",
    ")"
   ]
  },
  {
   "cell_type": "code",
   "execution_count": 13,
   "id": "97e5ae6d",
   "metadata": {},
   "outputs": [
    {
     "data": {
      "image/png": "[encoded data removed]",
      "text/plain": [
       "<Figure size 1080x1080 with 2 Axes>"
      ]
     },
     "metadata": {
      "needs_background": "light"
     },
     "output_type": "display_data"
    }
   ],
   "source": [
    "# accuracies\n",
    "accs = r.history['accuracy']\n",
    "val_accs = r.history['val_accuracy']\n",
    "loss = r.history['loss']\n",
    "val_loss = r.history['val_loss']\n",
    "\n",
    "epochs_range = range(20)\n",
    "\n",
    "plt.figure(figsize=(15, 15))\n",
    "plt.subplot(2, 2, 1)\n",
    "plt.plot(epochs_range, accs, label='Training Accuracy')\n",
    "plt.plot(epochs_range, val_accs, label='Validation Accuracy')\n",
    "plt.legend(loc='lower right')\n",
    "plt.title('Training and Validation Accuracy')\n",
    "\n",
    "plt.subplot(2, 2, 2)\n",
    "plt.plot(epochs_range, loss, label='Training Loss')\n",
    "plt.plot(epochs_range, val_loss, label='Validation Loss')\n",
    "plt.legend(loc='upper right')\n",
    "plt.title('Training and Validation Loss')\n",
    "plt.show()"
   ]
  },
  {
   "cell_type": "code",
   "execution_count": null,
   "id": "05fbb270",
   "metadata": {},
   "outputs": [],
   "source": []
  }
 ],
 "metadata": {
  "kernelspec": {
   "display_name": "Python 3 (ipykernel)",
   "language": "python",
   "name": "python3"
  },
  "language_info": {
   "codemirror_mode": {
    "name": "ipython",
    "version": 3
   },
   "file_extension": ".py",
   "mimetype": "text/x-python",
   "name": "python",
   "nbconvert_exporter": "python",
   "pygments_lexer": "ipython3",
   "version": "3.9.7"
  }
 },
 "nbformat": 4,
 "nbformat_minor": 5
}
