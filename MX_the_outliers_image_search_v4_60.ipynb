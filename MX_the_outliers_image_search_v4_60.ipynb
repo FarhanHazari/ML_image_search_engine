{
  "cells": [
    {
      "cell_type": "markdown",
      "metadata": {
        "id": "maYOJTtIlRKs"
      },
      "source": [
        "#                                            The Outliers"
      ]
    },
    {
      "cell_type": "code",
      "execution_count": 124,
      "metadata": {
        "execution": {
          "iopub.execute_input": "2022-05-08T07:43:57.374302Z",
          "iopub.status.busy": "2022-05-08T07:43:57.373775Z",
          "iopub.status.idle": "2022-05-08T07:44:03.628041Z",
          "shell.execute_reply": "2022-05-08T07:44:03.627208Z",
          "shell.execute_reply.started": "2022-05-08T07:43:57.374252Z"
        },
        "id": "GLgPAnqaZIux",
        "colab": {
          "base_uri": "https://localhost:8080/"
        },
        "outputId": "c797b9db-20bd-4797-f2d3-30bcdad2b25b"
      },
      "outputs": [
        {
          "output_type": "stream",
          "name": "stdout",
          "text": [
            "TensorFlow version: 2.8.0\n",
            "Is using GPU? True\n",
            "Num GPUs Available:  1\n"
          ]
        }
      ],
      "source": [
        "import os\n",
        "import time\n",
        "import requests\n",
        "import json\n",
        "from datetime import datetime\n",
        "#os.environ[\"CUDA_VISIBLE_DEVICES\"] = \"-1\"\n",
        "import numpy as np\n",
        "from numpy.linalg import norm\n",
        "from tqdm import tqdm\n",
        "import PIL\n",
        "import time\n",
        "import tensorflow as tf\n",
        "from tensorflow.keras.preprocessing import image\n",
        "from tensorflow.keras.preprocessing.image import ImageDataGenerator\n",
        "\n",
        "# importing models\n",
        "from tensorflow.keras.applications.resnet50 import ResNet50, preprocess_input\n",
        "from tensorflow.keras.applications.resnet_v2 import ResNet50V2, preprocess_input\n",
        "from tensorflow.keras.applications.vgg16 import VGG16, preprocess_input\n",
        "from tensorflow.keras.applications.vgg19 import VGG19, preprocess_input\n",
        "from tensorflow.keras.applications.inception_v3 import InceptionV3, preprocess_input\n",
        "from tensorflow.keras.applications.inception_resnet_v2 import InceptionResNetV2, preprocess_input\n",
        "from tensorflow.keras.applications.efficientnet import EfficientNetB7, preprocess_input\n",
        "from tensorflow.keras.applications.efficientnet_v2 import EfficientNetV2B3, preprocess_input\n",
        "\n",
        "\n",
        "\n",
        "\n",
        "\n",
        "import math\n",
        "from sklearn.neighbors import NearestNeighbors\n",
        "import matplotlib.pyplot as plt\n",
        "import matplotlib.image as mpimg\n",
        "from sklearn.decomposition import PCA\n",
        "\n",
        "print('TensorFlow version:', tf.__version__)\n",
        "print('Is using GPU?', False if tf.config.list_physical_devices('GPU') == [] else True)\n",
        "print(\"Num GPUs Available: \", len(tf.config.list_physical_devices('GPU')))\n",
        "# print(tf.config.list_physical_devices('GPU'))"
      ]
    },
    {
      "cell_type": "code",
      "source": [
        "from google.colab import drive\n",
        "drive.mount('/content/drive')"
      ],
      "metadata": {
        "colab": {
          "base_uri": "https://localhost:8080/"
        },
        "id": "R1d1vq3TmZ2M",
        "outputId": "f6e53d36-4864-46db-e592-acd4a980024f"
      },
      "execution_count": 13,
      "outputs": [
        {
          "output_type": "stream",
          "name": "stdout",
          "text": [
            "Drive already mounted at /content/drive; to attempt to forcibly remount, call drive.mount(\"/content/drive\", force_remount=True).\n"
          ]
        }
      ]
    },
    {
      "cell_type": "code",
      "source": [
        "%%capture\n",
        "!unzip /content/drive/MyDrive/ML/challenge_test_data.zip"
      ],
      "metadata": {
        "id": "NCAjen8wmlUe"
      },
      "execution_count": 3,
      "outputs": []
    },
    {
      "cell_type": "code",
      "source": [
        "# Tweak these parameters as needed\n",
        "query_dir = '/content/query'\n",
        "root_dir = '/content'\n",
        "\n",
        "batch_size = 5\n",
        "img_size = 300\n",
        "\n",
        "n_neighbors = 10 # for PCA\n",
        "n_components = 500 # for PCA\n",
        "\n",
        "# submission_url = \"http://coruscant.disi.unitn.it:3001/results/\"\n",
        "submission_url = \"https://tinyurl.com/IML2022\"\n",
        "\n",
        "# use this to limit how many \"query\" results you want\n",
        "query_limit = 3\n",
        "limit_query = False\n",
        "\n",
        "apply_pca_sim_both = False # Use Regular and PCA both similarities\n",
        "apply_pca = True # Use PCA "
      ],
      "metadata": {
        "id": "JXcgZgpa1CaN"
      },
      "execution_count": 329,
      "outputs": []
    },
    {
      "cell_type": "code",
      "execution_count": 330,
      "metadata": {
        "execution": {
          "iopub.execute_input": "2022-05-08T07:44:48.507365Z",
          "iopub.status.busy": "2022-05-08T07:44:48.506804Z",
          "iopub.status.idle": "2022-05-08T07:45:11.133397Z",
          "shell.execute_reply": "2022-05-08T07:45:11.131213Z",
          "shell.execute_reply.started": "2022-05-08T07:44:48.507329Z"
        },
        "id": "To0ZAi4VZIu_"
      },
      "outputs": [],
      "source": [
        "start = datetime.now()\n",
        "\n",
        "# Importing Resnet50, a pretrained model\n",
        "# model = ResNet50(weights='imagenet', include_top=False,input_shape=(img_size, img_size, 3),pooling='max')\n",
        "\n",
        "# Importing ResNet50V2, a pretrained model\n",
        "# model = ResNet50V2(weights='imagenet', include_top=False,input_shape=(img_size, img_size, 3),pooling='max')\n",
        "\n",
        "# Importing VGG16, a pretrained model\n",
        "# model = VGG16(weights='imagenet', include_top=False,input_shape=(img_size, img_size, 3),pooling='max')\n",
        "\n",
        "# Importing VGG19, a pretrained model\n",
        "# model = VGG19(weights='imagenet', include_top=False,input_shape=(img_size, img_size, 3),pooling='max')\n",
        "\n",
        "# Importing InceptionV3, a pretrained model\n",
        "# model = InceptionV3(weights='imagenet', include_top=False,input_shape=(img_size, img_size, 3),pooling='max')\n",
        "\n",
        "# Importing EfficientNetB7, a pretrained model\n",
        "# model = EfficientNetB7(weights='imagenet', include_top=False,input_shape=(img_size, img_size, 3),pooling='max')\n",
        "\n",
        "# Importing efficientnet, a pretrained model\n",
        "model = EfficientNetV2B3(weights='imagenet', include_top=False,input_shape=(img_size, img_size, 3),pooling='max')\n",
        "\n",
        "\n",
        "# Trying to use our own model that was created on top of Resnet50 using Transfer Learning\n",
        "# model = tf.keras.models.load_model('/content/drive/MyDrive/ML/model_VGG16_TL_0.588.h5')\n",
        "\n",
        "# Trying to use our own model that was created on top of VGG16 using Transfer Learning\n",
        "# model = tf.keras.models.load_model('models/model_0.719.h5')\n",
        "\n",
        "# DOES NOT WORK YET: Trying to use our own model that was created on CNN\n",
        "# model = tf.keras.models.load_model('models/model_0.677.h5')"
      ]
    },
    {
      "cell_type": "markdown",
      "metadata": {
        "id": "7914tt4wCZsa"
      },
      "source": [
        "Create the keras image data generator object and extract the features for the images."
      ]
    },
    {
      "cell_type": "code",
      "execution_count": 331,
      "metadata": {
        "id": "G6wtIi3nZIvE",
        "outputId": "f60533be-8b8b-44e8-881f-ff76f5778a22",
        "colab": {
          "base_uri": "https://localhost:8080/"
        }
      },
      "outputs": [
        {
          "output_type": "stream",
          "name": "stdout",
          "text": [
            "Found 6355 images belonging to 1 classes.\n",
            "1271/1271 [==============================] - 53s 40ms/step\n",
            "Num images   =  6355\n",
            "Shape of feature_list =  (6355, 1536)\n",
            "Feature Extraction completed in:  0:01:01.792807\n"
          ]
        }
      ],
      "source": [
        "#root_dir = 'dataset_rahin/final/gallery_team'\n",
        "# root_dir = '/content/gallery_team'\n",
        "# root_dir = '/content'\n",
        "\n",
        "\n",
        "img_gen = ImageDataGenerator(preprocessing_function=preprocess_input)\n",
        "\n",
        "datagen = img_gen.flow_from_directory('.', classes=['gallery'],\n",
        "                                        target_size=(img_size, img_size),\n",
        "                                        batch_size=batch_size,\n",
        "                                        class_mode=None,\n",
        "                                        shuffle=False)\n",
        "\n",
        "num_images = len(datagen.filenames)\n",
        "num_epochs = int(math.ceil(num_images / batch_size))\n",
        "\n",
        "feature_list = model.predict(datagen, num_epochs,verbose = 1)\n",
        "\n",
        "print(\"Num images   = \", len(datagen.classes))\n",
        "print(\"Shape of feature_list = \", feature_list.shape)\n",
        "\n",
        "\n",
        "# Get full path for all the images in our Gallery Dataset\n",
        "\n",
        "filenames = [root_dir + '/' + s for s in datagen.filenames]\n",
        "# print(filenames)\n",
        "\n",
        "# calculating Neighbors\n",
        "neighbors = NearestNeighbors(n_neighbors=n_neighbors,\n",
        "                             algorithm='auto',\n",
        "                             metric='cosine')\n",
        "neighbors.fit(feature_list)\n",
        "\n",
        "\n",
        "# calculating Neighbors for PCA\n",
        "pca = PCA(n_components=n_components)\n",
        "pca.fit(feature_list)\n",
        "compressed_features = pca.transform(feature_list)\n",
        "\n",
        "\n",
        "neighbors_pca_features = NearestNeighbors(n_neighbors=n_neighbors,\n",
        "                              algorithm='auto',\n",
        "                              metric='cosine').fit(compressed_features)\n",
        "\n",
        "duration = datetime.now() - start\n",
        "print(\"Feature Extraction completed in: \", duration)"
      ]
    },
    {
      "cell_type": "code",
      "execution_count": 332,
      "metadata": {
        "id": "HJ0Iw9MplRLC"
      },
      "outputs": [],
      "source": [
        "# Creating methods\n",
        "\n",
        "def similar_images(ind, dist, res_dict, query_img_name):\n",
        "    # plt.figure(figsize=(15,10), facecolor='white')\n",
        "    plotnumber = 1    \n",
        "#     print(len(ind))\n",
        "\n",
        "    res_dict[query_img_name] = []\n",
        "    for index in ind:\n",
        "        if plotnumber<=len(ind) :\n",
        "#             ax = plt.subplot(2,5,plotnumber)\n",
        "#             plt.imshow(mpimg.imread(filenames[index]), interpolation='lanczos')\n",
        "# #             plt.xlabel(distance[plotnumber-1],fontsize=12)\n",
        "#             lbl = \"top-\" + str(plotnumber) + \" : \" + str(format(dist[plotnumber-1], '.2f'))\n",
        "#             plt.xlabel(lbl,fontsize=12)\n",
        "            plotnumber+=1\n",
        "\n",
        "            file_name_array = filenames[index].split('/')\n",
        "            res_name = file_name_array[len(file_name_array)-1]\n",
        "\n",
        "            res_dict[query_img_name].append(res_name)\n",
        "            # print(\"res_name: \",res_name)\n",
        "    # plt.tight_layout()\n",
        "    # plt.show()\n",
        "    # print('\\n' * 5)\n",
        "\n",
        "def get_similar_images(query_img_path, indices, distances, res_dict):\n",
        "    # print(\"---------- Query Image --------\")\n",
        "    # print(\"\")\n",
        "    \n",
        "    # plt.figure()\n",
        "    # plt.imshow(mpimg.imread(query_img_path), interpolation='lanczos')\n",
        "    # plt.xlabel(img_path.split('.')[0] + '_Original Image',fontsize=20)\n",
        "    \n",
        "    file_name_array = query_img_path.split('/')\n",
        "    query_img_name = file_name_array[len(file_name_array)-1]\n",
        "\n",
        "    # plt.xlabel('Query Image: ' + query_img_name,fontsize=12)\n",
        "    # plt.show()\n",
        "    # print()\n",
        "    # print('---------- Similar Images --------')\n",
        "    # print()\n",
        "    similar_images(indices[0], distances[0], res_dict, query_img_name)\n",
        "    \n",
        "def get_simalar_images_pca(query_img_path, pca_indices, pca_distances, res_dict):\n",
        "    # print(\"---------- Query Image --------\")\n",
        "    # print(\"\")\n",
        "\n",
        "    # plt.figure()\n",
        "    # plt.imshow(mpimg.imread(query_img_path), interpolation='lanczos')\n",
        "    # plt.xlabel(query_img_path.split('/')[3] + '_Original Image',fontsize=20)\n",
        "\n",
        "    file_name_array = query_img_path.split('/')\n",
        "    query_img_name = file_name_array[len(file_name_array)-1]\n",
        "\n",
        "    # plt.xlabel('Query Image: ' + query_img_name,fontsize=12)\n",
        "    # plt.show()\n",
        "    # print()\n",
        "    # print('---------- Similar Images after PCA --------')\n",
        "    # print()\n",
        "    similar_images(pca_indices[0], pca_distances[0], res_dict, query_img_name)\n",
        "\n",
        "def submit(results, url=submission_url):\n",
        "    res = json.dumps(results)\n",
        "    response = requests.post(url, res)\n",
        "    try:\n",
        "        result = json.loads(response.text)\n",
        "        print(f\"accuracy is {result['results']}\")\n",
        "    except json.JSONDecodeError:\n",
        "        print(f\"ERROR: {response.text}\")"
      ]
    },
    {
      "cell_type": "code",
      "execution_count": 333,
      "metadata": {
        "scrolled": true,
        "id": "nkLy3l-TlRLD"
      },
      "outputs": [],
      "source": [
        "# query_img_path = 'dataset_rahin/final/query/2.png'\n",
        "# query_dir = 'dataset_rahin/final/query_team/'\n",
        "# query_dir = '/content/query'\n",
        "\n",
        "\n",
        "# # use this to limit the loop to specific query count\n",
        "idx_run = 0\n",
        "# query_limit = 10\n",
        "\n",
        "\n",
        "mydata = dict()\n",
        "mydata['groupname'] = \"The Outliers\"\n",
        "\n",
        "res = dict()\n",
        "\n",
        "for filename in os.listdir(query_dir):\n",
        "\n",
        "    # use this to limit the loop to specific query count\n",
        "    if idx_run==query_limit and limit_query:\n",
        "      break\n",
        "\n",
        "\n",
        "    query_img_path = os.path.join(query_dir, filename)\n",
        "    # checking if it is a file\n",
        "    if os.path.isfile(query_img_path) and query_img_path.lower().endswith(('.jpg', '.jpeg', 'png')):\n",
        "#         print(query_img_path)\n",
        "#         plt.imshow(plt.imread(query_img_path))\n",
        "#         plt.xlabel('Query Image: ' + query_img_path.split('/')[3],fontsize=12)\n",
        "#         plt.show()\n",
        "\n",
        "        input_shape = (img_size, img_size, 3)\n",
        "        img = image.load_img(query_img_path, target_size=(input_shape[0], input_shape[1]))\n",
        "        img_array = image.img_to_array(img)\n",
        "        expanded_img_array = np.expand_dims(img_array, axis=0)\n",
        "        preprocessed_img = preprocess_input(expanded_img_array)\n",
        "\n",
        "        test_img_features = model.predict(preprocessed_img, batch_size=1)\n",
        "\n",
        "        distances, indices = neighbors.kneighbors(test_img_features)\n",
        "\n",
        "        # for dist in _:\n",
        "        #     print(dist)\n",
        "\n",
        "#         print(indices.shape)\n",
        "        \n",
        "        if apply_pca_sim_both:\n",
        "          # Get Similar Images\n",
        "          get_similar_images(query_img_path, indices, distances, res)\n",
        "\n",
        "          # Get Similar Images after applying PCA\n",
        "\n",
        "          test_img_compressed = pca.transform(test_img_features)\n",
        "          pca_distances, pca_indices = neighbors_pca_features.kneighbors(test_img_compressed)\n",
        "          # print(indices.shape)\n",
        "\n",
        "          get_simalar_images_pca(query_img_path=query_img_path, pca_indices=pca_indices, pca_distances=pca_distances, res_dict=res)\n",
        "          \n",
        "        elif apply_pca:\n",
        "          # Get Similar Images after applying PCA\n",
        "\n",
        "          test_img_compressed = pca.transform(test_img_features)\n",
        "          pca_distances, pca_indices = neighbors_pca_features.kneighbors(test_img_compressed)\n",
        "          # print(indices.shape)\n",
        "\n",
        "          get_simalar_images_pca(query_img_path=query_img_path, pca_indices=pca_indices, pca_distances=pca_distances, res_dict=res)\n",
        "        else:\n",
        "          # Get Similar Images\n",
        "          get_similar_images(query_img_path, indices, distances, res)\n",
        "        \n",
        "        # use this to limit the loop to specific query count\n",
        "        idx_run = idx_run + 1\n",
        "        \n",
        "#         TODO implement server api to get results\n"
      ]
    },
    {
      "cell_type": "code",
      "source": [
        "# import json\n",
        "# print(json.dumps(res, indent=4))\n",
        "\n",
        "# print(json.dumps(res[\"bb8eec39da5fa038db8ec6cc1f7a64312c8c5e5f.jpg\"], indent=4))\n",
        "\n",
        "mydata[\"images\"] = res\n",
        "\n",
        "# print(json.dumps(mydata, indent=4))\n",
        "submit(mydata)\n"
      ],
      "metadata": {
        "colab": {
          "base_uri": "https://localhost:8080/"
        },
        "id": "MqLHV7s-S39U",
        "outputId": "8e22ee48-2497-4ad9-e855-a738c7dcaa64"
      },
      "execution_count": 334,
      "outputs": [
        {
          "output_type": "stream",
          "name": "stdout",
          "text": [
            "accuracy is [0.7384615384615385, 0.8, 0.8307692307692308]\n"
          ]
        }
      ]
    },
    {
      "cell_type": "code",
      "source": [
        ""
      ],
      "metadata": {
        "id": "c_iPRjtOWcGm"
      },
      "execution_count": 77,
      "outputs": []
    }
  ],
  "metadata": {
    "kernelspec": {
      "display_name": "Python 3 (ipykernel)",
      "language": "python",
      "name": "python3"
    },
    "language_info": {
      "codemirror_mode": {
        "name": "ipython",
        "version": 3
      },
      "file_extension": ".py",
      "mimetype": "text/x-python",
      "name": "python",
      "nbconvert_exporter": "python",
      "pygments_lexer": "ipython3",
      "version": "3.9.7"
    },
    "colab": {
      "name": "MX_the_outliers_image_search_v4.50.ipynb",
      "provenance": [],
      "machine_shape": "hm",
      "collapsed_sections": []
    },
    "accelerator": "GPU"
  },
  "nbformat": 4,
  "nbformat_minor": 0
}